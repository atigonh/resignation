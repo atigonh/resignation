{
 "cells": [
  {
   "cell_type": "code",
   "execution_count": 18,
   "id": "caa5bfc1-3646-4564-9f3f-95cbc5550f94",
   "metadata": {},
   "outputs": [
    {
     "name": "stdout",
     "output_type": "stream",
     "text": [
      "0.9013632718524459\n",
      "0.8733031674208145\n",
      "[[1030   17]\n",
      " [ 106   94]]\n",
      "[[178   8]\n",
      " [ 20  15]]\n"
     ]
    }
   ],
   "source": [
    "import pandas as pd\n",
    "import numpy as np\n",
    "import matplotlib.pyplot as plt\n",
    "import seaborn as sns\n",
    "\n",
    "from sklearn.metrics import confusion_matrix\n",
    "from sklearn.model_selection import train_test_split\n",
    "from sklearn.linear_model import LogisticRegression\n",
    "from sklearn.ensemble import RandomForestClassifier, AdaBoostClassifier\n",
    "from sklearn.neighbors import KNeighborsClassifier\n",
    "from sklearn.preprocessing import OneHotEncoder\n",
    "from sklearn.compose import ColumnTransformer\n",
    "from sklearn.preprocessing import StandardScaler\n",
    "pd.options.display.max_columns = None\n",
    "\n",
    "# select one that correlation over +/- 10%\n",
    "selected_features = [\n",
    "    'Age',\n",
    "    'BusinessTravel',\n",
    "    'Department',\n",
    "    'DistanceFromHome',\n",
    "    'EducationField',\n",
    "    'EnvironmentSatisfaction',\n",
    "    'JobInvolvement',\n",
    "    'JobLevel',\n",
    "    'JobRole', # category\n",
    "    'JobSatisfaction',\n",
    "    'MaritalStatus',\n",
    "    'salary_range', # will test between MonthlyIncome\n",
    "    'NumCompaniesWorked',\n",
    "    'num_comp_work',\n",
    "    'OverTime', # (*****+25%)\n",
    "    'RelationshipSatisfaction',\n",
    "    'StockOptionLevel',\n",
    "    'TotalWorkingYears', # (****-18%)\n",
    "    'TrainingTimesLastYear',\n",
    "    'WorkLifeBalance', # (****4)\n",
    "    'YearsAtCompany',\n",
    "    'YearsInCurrentRole',\n",
    "    'YearsWithCurrManager'\n",
    "]\n",
    "\n",
    "df = pd.read_csv('../data/employee_data_clean_eda.csv')\n",
    "\n",
    "X = df[selected_features]\n",
    "y = df['Attrition']\n",
    "X_train, X_test, y_train, y_test = train_test_split(X, y, random_state=42, stratify=y, test_size=0.15)\n",
    "glimpse = []\n",
    "for c in df.columns:\n",
    "    make_set = list(set(df[c]))\n",
    "    data = {'column_name':c, 'set_10':make_set[:10], 'set_count':len(make_set), 'type':str(df[c].dtypes)}\n",
    "    #glimpse.append(data)\n",
    "    if data['type'] == 'object':\n",
    "        glimpse.append(data)\n",
    "df_glimpse = pd.DataFrame(glimpse)\n",
    "dummy_col = [c for c in df_glimpse['column_name'] if c in selected_features]\n",
    "\n",
    "numerical_features = [c for c in selected_features if c not in dummy_col]\n",
    "\n",
    "ct = ColumnTransformer([\n",
    "        ('sc', StandardScaler(), numerical_features),\n",
    "        ('ohe', OneHotEncoder(), dummy_col)\n",
    "    ], remainder='passthrough')\n",
    "\n",
    "X_train_ct = ct.fit_transform(X_train[selected_features])\n",
    "X_test_ct = ct.transform(X_test[selected_features])\n",
    "\n",
    "m = AdaBoostClassifier(random_state=42)\n",
    "m.fit(X_train_ct, y_train)\n",
    "print(m.score(X_train_ct, y_train))\n",
    "print(m.score(X_test_ct, y_test))\n",
    "print(confusion_matrix(y_train, m.predict(X_train_ct)))\n",
    "print(confusion_matrix(y_test, m.predict(X_test_ct)))"
   ]
  },
  {
   "cell_type": "code",
   "execution_count": null,
   "id": "85d758c3-2e13-4ce1-86eb-2f0370007485",
   "metadata": {},
   "outputs": [],
   "source": []
  }
 ],
 "metadata": {
  "kernelspec": {
   "display_name": "Python 3 (ipykernel)",
   "language": "python",
   "name": "python3"
  },
  "language_info": {
   "codemirror_mode": {
    "name": "ipython",
    "version": 3
   },
   "file_extension": ".py",
   "mimetype": "text/x-python",
   "name": "python",
   "nbconvert_exporter": "python",
   "pygments_lexer": "ipython3",
   "version": "3.9.13"
  }
 },
 "nbformat": 4,
 "nbformat_minor": 5
}
