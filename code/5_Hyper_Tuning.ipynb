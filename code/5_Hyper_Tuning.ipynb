{
 "cells": [
  {
   "cell_type": "markdown",
   "id": "b5243501-044c-446c-986f-1dac16d450cb",
   "metadata": {},
   "source": [
    "## Production model\n",
    "\n",
    "#### This notebook will find the production model and try our best to increase score on recall by 20%. The best baseline score from AdaBoost is 0.36.\n"
   ]
  },
  {
   "cell_type": "code",
   "execution_count": null,
   "id": "c95f0caa-f2d6-4e2b-9d59-b620fd869aa0",
   "metadata": {},
   "outputs": [],
   "source": []
  }
 ],
 "metadata": {
  "kernelspec": {
   "display_name": "Python 3 (ipykernel)",
   "language": "python",
   "name": "python3"
  },
  "language_info": {
   "codemirror_mode": {
    "name": "ipython",
    "version": 3
   },
   "file_extension": ".py",
   "mimetype": "text/x-python",
   "name": "python",
   "nbconvert_exporter": "python",
   "pygments_lexer": "ipython3",
   "version": "3.9.13"
  }
 },
 "nbformat": 4,
 "nbformat_minor": 5
}
