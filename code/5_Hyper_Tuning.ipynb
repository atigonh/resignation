{
 "cells": [
  {
   "cell_type": "markdown",
   "id": "b5243501-044c-446c-986f-1dac16d450cb",
   "metadata": {},
   "source": [
    "## Hyper Tuning model\n",
    "\n",
    "#### This notebook will do the hypertuning on AdaBoost to get the best score as possible"
   ]
  },
  {
   "cell_type": "markdown",
   "id": "b3741ce4-2bfc-4eba-a424-788d8a9dd6a7",
   "metadata": {},
   "source": [
    "### Import"
   ]
  },
  {
   "cell_type": "code",
   "execution_count": 16,
   "id": "c95f0caa-f2d6-4e2b-9d59-b620fd869aa0",
   "metadata": {},
   "outputs": [],
   "source": [
    "import pandas as pd\n",
    "import numpy as np\n",
    "import matplotlib.pyplot as plt\n",
    "import seaborn as sns\n",
    "\n",
    "from sklearn.metrics import confusion_matrix\n",
    "from sklearn.model_selection import train_test_split\n",
    "from sklearn.compose import ColumnTransformer\n",
    "from sklearn.preprocessing import OneHotEncoder\n",
    "from sklearn.preprocessing import StandardScaler\n",
    "from sklearn.ensemble import AdaBoostClassifier\n",
    "pd.options.display.max_columns = None\n",
    "\n",
    "#from sklearn.linear_model import LogisticRegression\n",
    "#from sklearn.ensemble import RandomForestClassifier\n",
    "#from sklearn.neighbors import KNeighborsClassifier\n",
    "#from xgboost import XGBClassifier"
   ]
  },
  {
   "cell_type": "markdown",
   "id": "2a7a8f75-911b-4194-ad6a-7a5770e20528",
   "metadata": {},
   "source": [
    "### Prepare data"
   ]
  },
  {
   "cell_type": "code",
   "execution_count": 6,
   "id": "abeed1c9-4d0e-4abc-9a01-711f0ef054eb",
   "metadata": {},
   "outputs": [],
   "source": [
    "selected_features = [\n",
    "    'Age',\n",
    "    'BusinessTravel',\n",
    "    'Department',\n",
    "    'DistanceFromHome',\n",
    "    'EducationField',\n",
    "    'EnvironmentSatisfaction',\n",
    "    'JobInvolvement',\n",
    "    'JobLevel',\n",
    "    'JobRole', # category\n",
    "    'JobSatisfaction',\n",
    "    'MaritalStatus',\n",
    "    'salary_range', # will test between MonthlyIncome\n",
    "    'NumCompaniesWorked',\n",
    "    'num_comp_work',\n",
    "    'OverTime', # (*****+25%)\n",
    "    'RelationshipSatisfaction',\n",
    "    'StockOptionLevel',\n",
    "    'TotalWorkingYears', # (****-18%)\n",
    "    'TrainingTimesLastYear',\n",
    "    'WorkLifeBalance', # (****4)\n",
    "    'YearsAtCompany',\n",
    "    'YearsInCurrentRole',\n",
    "    'YearsWithCurrManager'\n",
    "]"
   ]
  },
  {
   "cell_type": "code",
   "execution_count": 7,
   "id": "e96f247a-4f28-4d0b-8c81-4ef49edd42e2",
   "metadata": {},
   "outputs": [
    {
     "data": {
      "text/plain": [
       "((1247, 23), (221, 23), (1247,), (221,))"
      ]
     },
     "execution_count": 7,
     "metadata": {},
     "output_type": "execute_result"
    }
   ],
   "source": [
    "df = pd.read_csv('../data/employee_data_clean_eda.csv')\n",
    "X = df[selected_features]\n",
    "y = df['Attrition']\n",
    "X_train, X_test, y_train, y_test = train_test_split(X, y, random_state=42, stratify=y, test_size=0.15)\n",
    "X_train.shape, X_test.shape, y_train.shape, y_test.shape"
   ]
  },
  {
   "cell_type": "code",
   "execution_count": 13,
   "id": "4d9f9ed7-015e-491c-aa47-3de456151ae3",
   "metadata": {},
   "outputs": [
    {
     "data": {
      "text/plain": [
       "((1247, 38), (221, 38))"
      ]
     },
     "execution_count": 13,
     "metadata": {},
     "output_type": "execute_result"
    }
   ],
   "source": [
    "# Check all object categories\n",
    "glimpse = []\n",
    "for c in df.columns:\n",
    "    make_set = list(set(df[c]))\n",
    "    data = {'column_name':c, 'set_10':make_set[:10], 'set_count':len(make_set), 'type':str(df[c].dtypes)}\n",
    "    #glimpse.append(data)\n",
    "    if data['type'] == 'object':\n",
    "        glimpse.append(data)\n",
    "df_glimpse = pd.DataFrame(glimpse)\n",
    "\n",
    "dummy_col = [c for c in df_glimpse['column_name'] if c in selected_features]\n",
    "\n",
    "numerical_features = [c for c in selected_features if c not in dummy_col]\n",
    "\n",
    "ct = ColumnTransformer([\n",
    "        ('sc', StandardScaler(), numerical_features),\n",
    "        ('ohe', OneHotEncoder(), dummy_col)\n",
    "    ], remainder='passthrough')\n",
    "\n",
    "X_train_ct = ct.fit_transform(X_train[selected_features])\n",
    "X_test_ct = ct.transform(X_test[selected_features])\n",
    "X_train_ct.shape, X_test_ct.shape"
   ]
  },
  {
   "cell_type": "markdown",
   "id": "4f43a25b-a3ba-4b59-b833-3980f901f019",
   "metadata": {},
   "source": [
    "### AdaBoost Hyper Tuning"
   ]
  },
  {
   "cell_type": "code",
   "execution_count": null,
   "id": "57a39684-15fd-40f2-9eeb-ad59c4aa9be5",
   "metadata": {},
   "outputs": [],
   "source": []
  }
 ],
 "metadata": {
  "kernelspec": {
   "display_name": "Python 3 (ipykernel)",
   "language": "python",
   "name": "python3"
  },
  "language_info": {
   "codemirror_mode": {
    "name": "ipython",
    "version": 3
   },
   "file_extension": ".py",
   "mimetype": "text/x-python",
   "name": "python",
   "nbconvert_exporter": "python",
   "pygments_lexer": "ipython3",
   "version": "3.9.13"
  }
 },
 "nbformat": 4,
 "nbformat_minor": 5
}
